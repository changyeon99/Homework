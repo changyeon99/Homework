{
 "cells": [
  {
   "cell_type": "code",
   "execution_count": 1,
   "metadata": {},
   "outputs": [],
   "source": [
    "# 중간점검, Lab 프로그램 실행 결과를 레포트에 작성하여 pdf 파일로 제출"
   ]
  },
  {
   "cell_type": "code",
   "execution_count": 11,
   "metadata": {},
   "outputs": [],
   "source": [
    "# p. 89 중간 점검\n",
    "# 1. 반복 작업에도 지치지 않고 다양한 작업을 수행할 수 있다.\n",
    "# 2. 다양한 소프트 웨어를 지원하지 않으므로 한 가지 작업만을 수행할 수 있기 때문이다.\n",
    "# 3. 컴퓨터가 수행할 명령어가 들어 있다."
   ]
  },
  {
   "cell_type": "code",
   "execution_count": 12,
   "metadata": {},
   "outputs": [],
   "source": [
    "# p. 93 중간 점검\n",
    "# 1. 인간은 컴퓨터는 할 수 없는 창의적인 생각을 할 수 있고, 컴퓨터는 인간보다 반복 작업을 훨씬 잘 수행할 수 있다.\n",
    "# 2. 파이썬과 같은 프로그래밍 언어를 통해 반복작업을 컴퓨터가 수행하도록 시킬 수 있기 때문이다."
   ]
  },
  {
   "cell_type": "code",
   "execution_count": 15,
   "metadata": {},
   "outputs": [
    {
     "name": "stdout",
     "output_type": "stream",
     "text": [
      "안녕하세요?\n",
      "programming에 입문하신 것을 축하드립니다.\n",
      "생일축하!!생일축하!!생일축하!!생일축하!!생일축하!!생일축하!!생일축하!!생일축하!!생일축하!!생일축하!!\n"
     ]
    }
   ],
   "source": [
    "# p. 109 중간 점검\n",
    "print(\"안녕하세요?\")\n",
    "print(\"programming에 입문하신 것을 축하드립니다.\")\n",
    "print('생일축하!!'*10)\n",
    "# 문자열을 감싸는 큰따옴표가 없기 때문이다."
   ]
  },
  {
   "cell_type": "code",
   "execution_count": null,
   "metadata": {},
   "outputs": [],
   "source": [
    "# p. 116 중간 점검\n",
    "# 1. 스파이더에서는 대화형 모드와 스크립트 모드를 사용할 수 있다. 대화형 모드는 문장을 한 줄씩 입력하여 실행하는 반면, 스크립트 모드는 파일을 작성한 뒤 파일 전체를 한 번에 실행하는 모드이다.\n",
    "# 2. 파이썬으로 프로그래밍할 때 대소문자를 구분해야 한다.\n",
    "# 3. 파이썬 소스 파일의 확장자는 '.py'이다."
   ]
  },
  {
   "cell_type": "code",
   "execution_count": 17,
   "metadata": {},
   "outputs": [
    {
     "name": "stdout",
     "output_type": "stream",
     "text": [
      "파이썬에 오신 것을 환영합니다.\n",
      "파이썬은 쉽습니다.\n",
      "파이썬으로 빅데이터, 인공지능 프로그램을 작성할 수 있습니다.\n"
     ]
    }
   ],
   "source": [
    "# p. 121\n",
    "print(\"파이썬에 오신 것을 환영합니다.\")\n",
    "print(\"파이썬은 쉽습니다.\")\n",
    "print(\"파이썬으로 빅데이터, 인공지능 프로그램을 작성할 수 있습니다.\")"
   ]
  },
  {
   "cell_type": "code",
   "execution_count": 18,
   "metadata": {},
   "outputs": [
    {
     "name": "stdout",
     "output_type": "stream",
     "text": [
      "5\n",
      "-1\n",
      "6\n",
      "0.6666666666666666\n"
     ]
    }
   ],
   "source": [
    "# p. 123\n",
    "print(2+3)\n",
    "print(2-3)\n",
    "print(2*3)\n",
    "print(2/3)"
   ]
  },
  {
   "cell_type": "code",
   "execution_count": 19,
   "metadata": {},
   "outputs": [
    {
     "name": "stdout",
     "output_type": "stream",
     "text": [
      "안녕하세요?\n",
      "이번 코드에는 많은 오류가 있다네요\n",
      "제가 다 고쳐 보겠습니다.\n"
     ]
    }
   ],
   "source": [
    "#p. 125\n",
    "print(\"안녕하세요?\")\n",
    "print(\"이번 코드에는 많은 오류가 있다네요\")\n",
    "print(\"제가 다 고쳐 보겠습니다.\")"
   ]
  },
  {
   "cell_type": "code",
   "execution_count": 20,
   "metadata": {},
   "outputs": [
    {
     "name": "stdout",
     "output_type": "stream",
     "text": [
      "삼각형의 면적은: 50.0\n"
     ]
    }
   ],
   "source": [
    "# p. 141 중간 점검\n",
    "# 1. 변수는 컴퓨터 메모리 공간에 이름은 붙이는 것이며, 값을 저장할 수 있다.\n",
    "x = 10\n",
    "y = 10\n",
    "print(\"삼각형의 면적은:\", (x*y)/2)\n",
    "# 3. 변수의 이름 중간에 공백이 없도록 해야 한다.\n",
    "# 4. 첫글자로는 영문자를 사용해야 한다.\n",
    "# 5. 예약어"
   ]
  },
  {
   "cell_type": "code",
   "execution_count": 21,
   "metadata": {},
   "outputs": [],
   "source": [
    "#p. 145 중간 점검\n",
    "# 1. 정수, 리스트, 문자열\n",
    "# 2. 가능하다. 저장 공간에는 어떤 자료형이든 저장할 수 있기 때문이다.\n",
    "# 3. type()"
   ]
  },
  {
   "cell_type": "code",
   "execution_count": 25,
   "metadata": {},
   "outputs": [
    {
     "name": "stdout",
     "output_type": "stream",
     "text": [
      "4.227972264501945 광년\n"
     ]
    }
   ],
   "source": [
    "# p. 150\n",
    "s = 300000\n",
    "d = 40 * 1000000000000\n",
    "\n",
    "secs = d/s\n",
    "ly = secs/(60*60*24*365)\n",
    "\n",
    "print(ly, '광년')"
   ]
  },
  {
   "cell_type": "code",
   "execution_count": 26,
   "metadata": {},
   "outputs": [
    {
     "name": "stdout",
     "output_type": "stream",
     "text": [
      "면적= 15.0\n"
     ]
    }
   ],
   "source": [
    "# p. 155 중간 점검\n",
    "k = 300\n",
    "width = 3.0 # 밑변의 길이\n",
    "height = 5.0 # 높이\n",
    "print(\"면적=\", width*height) # 넓이 구하기"
   ]
  },
  {
   "cell_type": "code",
   "execution_count": 28,
   "metadata": {},
   "outputs": [
    {
     "name": "stdout",
     "output_type": "stream",
     "text": [
      "785.0\n"
     ]
    }
   ],
   "source": [
    "# p. 156\n",
    "r = 5\n",
    "h = 10\n",
    "print(3.14*r*r*h)"
   ]
  },
  {
   "cell_type": "code",
   "execution_count": 2,
   "metadata": {},
   "outputs": [],
   "source": [
    "# p. 168 중간 점검\n",
    "# 1. x = x * y\n",
    "# 2. 4\n",
    "# 3. 1\n",
    "# 4. 변수명이 앞에 와야 한다.\n",
    "# 5. 100, 100, 100"
   ]
  },
  {
   "cell_type": "code",
   "execution_count": 6,
   "metadata": {},
   "outputs": [
    {
     "name": "stdout",
     "output_type": "stream",
     "text": [
      "111442737812.28842\n"
     ]
    }
   ],
   "source": [
    "# p. 169\n",
    "money = 24\n",
    "interest = 0.06\n",
    "years = 382\n",
    "print(money*(1+interest)**years)"
   ]
  },
  {
   "cell_type": "code",
   "execution_count": 10,
   "metadata": {},
   "outputs": [
    {
     "data": {
      "text/plain": [
       "'BTW'"
      ]
     },
     "execution_count": 10,
     "metadata": {},
     "output_type": "execute_result"
    }
   ],
   "source": [
    "# p. 184 중간 점검\n",
    "int('100')\n",
    "str(100)\n",
    "a = \"By\"; b = \"The\"; c = \"Way\"\n",
    "a[0]+b[0]+c[0]"
   ]
  },
  {
   "cell_type": "code",
   "execution_count": 11,
   "metadata": {},
   "outputs": [
    {
     "name": "stdout",
     "output_type": "stream",
     "text": [
      "\n",
      "=================================\n",
      "오늘 서울에서 야구 경기가 열렸습니다.\n",
      "삼성과 LG은 치열한 공방전을 펼쳤습니다.\n",
      "홀길동이 맹활약을 하였습니다.\n",
      "결국 삼성가 LG를 8:7로 이겼습니다.\n",
      "=================================\n"
     ]
    }
   ],
   "source": [
    "# p. 188\n",
    "stadium = input('경기장은 어디입니까?')\n",
    "winner = input('이긴 팀은 어디입니까?')\n",
    "loser = input('진 팀은 어디입니까?')\n",
    "vip = input('우수 선수는 누구입니까?')\n",
    "score = input('스코어는 몇 대 몇입니까?')\n",
    "print('')\n",
    "print('=================================')\n",
    "print('오늘 '+stadium+'에서 야구 경기가 열렸습니다.')\n",
    "print(winner+'과 '+loser+'은 치열한 공방전을 펼쳤습니다.')\n",
    "print(vip+'이 맹활약을 하였습니다.')\n",
    "print('결국 '+winner+'가 '+loser+'를 '+score+'로 이겼습니다.')\n",
    "print('=================================')"
   ]
  },
  {
   "cell_type": "code",
   "execution_count": 17,
   "metadata": {},
   "outputs": [
    {
     "name": "stdout",
     "output_type": "stream",
     "text": [
      "홍길동 씨, 안녕하세요?\n",
      "파이썬에 오신 것을 환영합니다.\n",
      "300과 400의 합은 700입니다.\n"
     ]
    }
   ],
   "source": [
    "# p. 194\n",
    "name = input('이름을 입력하시오: ')\n",
    "print(name, \"씨, 안녕하세요?\")\n",
    "print(\"파이썬에 오신 것을 환영합니다.\")\n",
    "first = input('첫 번째 정수를 입력하시오: ')\n",
    "second = input('두 번째 정수를 입력하시오: ')\n",
    "sum = int(first)+int(second)\n",
    "print(first+\"과 \"+second+\"의 합은 \"+str(sum)+'입니다.')"
   ]
  },
  {
   "cell_type": "code",
   "execution_count": 18,
   "metadata": {},
   "outputs": [
    {
     "name": "stdout",
     "output_type": "stream",
     "text": [
      "안녕하세요?\n",
      "만나서 반갑습니다. 홀길동 씨\n",
      "이름의 길이는 다음과 같군요: 3\n",
      "내년이면 22살이 되시는군요\n"
     ]
    }
   ],
   "source": [
    "# p. 198\n",
    "print(\"안녕하세요?\")\n",
    "name = input(\"이름이 어떻게 되시나요?\")\n",
    "print(\"만나서 반갑습니다.\", name, \"씨\")\n",
    "print(\"이름의 길이는 다음과 같군요:\", len(name))\n",
    "age = int(input(\"나이가 어떻게 되나요?\"))\n",
    "print(\"내년이면 \"+str(age+1)+'살이 되시는군요')"
   ]
  },
  {
   "cell_type": "code",
   "execution_count": 19,
   "metadata": {},
   "outputs": [
    {
     "name": "stdout",
     "output_type": "stream",
     "text": [
      "당신의 BMI = 25.381468541909282\n"
     ]
    }
   ],
   "source": [
    "# p. 200\n",
    "weight = float(input(\"몸무게를 kg 단위로 입력하시오: \"))\n",
    "height = float(input(\"키를 m 단위로 입력하시오: \"))\n",
    "bmi = weight/(height**2)\n",
    "print(\"당신의 BMI =\", bmi)"
   ]
  },
  {
   "cell_type": "code",
   "execution_count": 22,
   "metadata": {},
   "outputs": [
    {
     "name": "stdout",
     "output_type": "stream",
     "text": [
      "구의 부피 = 523.5986666666666\n"
     ]
    }
   ],
   "source": [
    "# p. 202\n",
    "r = float(input(\"반지름을 입력하시오: \"))\n",
    "v = r**3 * 3.141592 * (4/3)\n",
    "print(\"구의 부피 =\", v)"
   ]
  },
  {
   "cell_type": "code",
   "execution_count": 23,
   "metadata": {},
   "outputs": [
    {
     "name": "stdout",
     "output_type": "stream",
     "text": [
      "500원: 0 100원: 2 10원: 5 1원: 0\n"
     ]
    }
   ],
   "source": [
    "# p. 204\n",
    "p = int(input(\"물건 값을 입력하시오: \"))\n",
    "w1000 = int(input(\"1000원 지폐 개수: \"))\n",
    "w500 = int(input(\"500원 동전 개수:\"))\n",
    "w100 = int(input(\"100원 동전 개수:\"))\n",
    "\n",
    "change = w1000*1000+w500*500+w100*100-p\n",
    "\n",
    "n500 = change//500\n",
    "change = change%500\n",
    "\n",
    "n100 = change//100\n",
    "change = change%100\n",
    "\n",
    "n10 = change//10\n",
    "change = change%10\n",
    "\n",
    "n1 = change\n",
    "\n",
    "print('500원:', n500, '100원:', n100, '10원:', n10, '1원:', n1)"
   ]
  },
  {
   "cell_type": "code",
   "execution_count": 24,
   "metadata": {},
   "outputs": [],
   "source": [
    "# p. 213 중간 점검\n",
    "# 1. 순차구조, 선택구조, 반복구조\n",
    "# 2. 제어문은 조건문과 반복문으로 나누어진다."
   ]
  },
  {
   "cell_type": "code",
   "execution_count": 28,
   "metadata": {},
   "outputs": [
    {
     "name": "stdout",
     "output_type": "stream",
     "text": [
      "False\n"
     ]
    }
   ],
   "source": [
    "# p. 225\n",
    "import random\n",
    "\n",
    "x = random.randint(1, 100)\n",
    "y = random.randint(1, 100)\n",
    "\n",
    "a = int(input(f'{x} + {y} = '))\n",
    "\n",
    "r = a == (x+y)\n",
    "print(r)"
   ]
  },
  {
   "cell_type": "code",
   "execution_count": 29,
   "metadata": {},
   "outputs": [
    {
     "name": "stdout",
     "output_type": "stream",
     "text": [
      "홀수입니다.\n"
     ]
    }
   ],
   "source": [
    "# p. 229\n",
    "n = int(input(\"정수를 입력하시오: \"))\n",
    "\n",
    "if n % 2 == 0:\n",
    "    print(\"짝수입니다.\")\n",
    "else: print(\"홀수입니다.\")"
   ]
  },
  {
   "cell_type": "code",
   "execution_count": 32,
   "metadata": {},
   "outputs": [
    {
     "name": "stdout",
     "output_type": "stream",
     "text": [
      "10층에서 사은품을 받아가세요.\n",
      "할인된 상품의 가격 = 170.0\n"
     ]
    }
   ],
   "source": [
    "# p. 231\n",
    "p = int(input('정가를 입력하시오: '))\n",
    "\n",
    "if p >= 100:\n",
    "    d = 0.85\n",
    "    print(\"10층에서 사은품을 받아가세요.\")\n",
    "else: d = 0.9\n",
    "\n",
    "print(\"할인된 상품의 가격 =\", p * d)"
   ]
  },
  {
   "cell_type": "code",
   "execution_count": 33,
   "metadata": {},
   "outputs": [
    {
     "data": {
      "text/plain": [
       "False"
      ]
     },
     "execution_count": 33,
     "metadata": {},
     "output_type": "execute_result"
    }
   ],
   "source": [
    "# p. 237 중간 점검\n",
    "# 1. age >= 25 and income >= 35000000\n",
    "# 2. False"
   ]
  },
  {
   "cell_type": "code",
   "execution_count": 34,
   "metadata": {},
   "outputs": [
    {
     "name": "stdout",
     "output_type": "stream",
     "text": [
      "물의 상태는 액체입니다.\n"
     ]
    }
   ],
   "source": [
    "# p. 238\n",
    "t = float(input(\"온도를 입력하시오: \"))\n",
    "\n",
    "if t <= 0:\n",
    "    print(\"물의 상태는 얼음입니다.\")\n",
    "elif t > 0 and t < 100:\n",
    "    print('물의 상태는 액체입니다.')\n",
    "else: print(\"물의 상태는 기체입니다.\")"
   ]
  },
  {
   "cell_type": "code",
   "execution_count": 35,
   "metadata": {},
   "outputs": [
    {
     "name": "stdout",
     "output_type": "stream",
     "text": [
      "동전 던지기 게임을 시작합니다.\n",
      "앞면입니다.\n",
      "게임이 종료되었습니다.\n"
     ]
    }
   ],
   "source": [
    "# p. 240\n",
    "print(\"동전 던지기 게임을 시작합니다.\")\n",
    "\n",
    "c = random.randrange(2)\n",
    "\n",
    "if c == 0:\n",
    "    print(\"앞면입니다.\")\n",
    "else: print(\"뒷면입니다.\")\n",
    "\n",
    "print(\"게임이 종료되었습니다.\")"
   ]
  },
  {
   "cell_type": "code",
   "execution_count": 36,
   "metadata": {},
   "outputs": [
    {
     "name": "stdout",
     "output_type": "stream",
     "text": [
      "빈약한 건물에 큰 피해가 있습니다. \n"
     ]
    }
   ],
   "source": [
    "# p. 249\n",
    "s = float(input(\"리히터 규모를 입력하시오: \"))\n",
    "\n",
    "if s >= 8.0 :\n",
    "    print(\"대부분의 구조물이 파괴됩니다. \")\n",
    "elif s >= 7.0 :\n",
    "    print(\"지표면에 균열이 발생합니다.\")\n",
    "elif s >= 4.0 :\n",
    "    print(\"빈약한 건물에 큰 피해가 있습니다. \")\n",
    "elif s >= 2.0 :\n",
    "    print(\"물건들이 흔들리거나 떨어집니다.\")\n",
    "else :\n",
    "    print(\"지진계에 의해서만 탐지 가능합니다. \")"
   ]
  },
  {
   "cell_type": "code",
   "execution_count": 39,
   "metadata": {},
   "outputs": [
    {
     "name": "stdout",
     "output_type": "stream",
     "text": [
      "행운의 매직볼로 오늘의 운세를 출력합니다. \n",
      "저의 생각에는 no입니다.\n"
     ]
    }
   ],
   "source": [
    "# p. 251\n",
    "print(\"행운의 매직볼로 오늘의 운세를 출력합니다. \")\n",
    "\n",
    "answers = random.randint(1, 8)\n",
    "\n",
    "if answers == 1:\n",
    "    print(\"확실히 이루어집니다.\")\n",
    "elif answers == 2:\n",
    "    print(\"좋아 보이네요\")\n",
    "elif answers == 3:\n",
    "    print(\"믿으셔도 됩니다.\")\n",
    "elif answers == 4:\n",
    "    print(\"저의 생각에는 no입니다.\")\n",
    "else: \n",
    "    print(\"다시 질문해주세요.\")"
   ]
  },
  {
   "cell_type": "code",
   "execution_count": 41,
   "metadata": {},
   "outputs": [
    {
     "name": "stdout",
     "output_type": "stream",
     "text": [
      "========================\n",
      "메뉴 1번: 치즈 버거\n",
      "메뉴 2번: 치킨 버거\n",
      "메뉴 3번: 불고기 버거\n",
      "========================\n",
      "잘못 입력하셨습니다.\n"
     ]
    }
   ],
   "source": [
    "# p. 253\n",
    "print(\"========================\")\n",
    "print(\"메뉴 1번: 치즈 버거\")\n",
    "print(\"메뉴 2번: 치킨 버거\")\n",
    "print(\"메뉴 3번: 불고기 버거\")\n",
    "print(\"========================\")\n",
    "\n",
    "selection = int(input(\"메뉴를 선택하세요:\"))\n",
    "\n",
    "if selection >= 1 and selection <= 3 :\n",
    "    print(\"메뉴 \", selection)\n",
    "else : print(\"잘못 입력하셨습니다.\")"
   ]
  },
  {
   "cell_type": "code",
   "execution_count": 42,
   "metadata": {},
   "outputs": [
    {
     "name": "stdout",
     "output_type": "stream",
     "text": [
      "페날티킥이 성공하였습니다. \n"
     ]
    }
   ],
   "source": [
    "# p. 255\n",
    "c = random.randint(1, 3)\n",
    "user = input(\"어디를 수비하시겠어요?(왼쪽: 1, 중앙: 2, 오른쪽: 3)\")\n",
    "\n",
    "if c == user:\n",
    "    print(\"수비에 성공하셨습니다. \")\n",
    "else:\n",
    "    print(\"페날티킥이 성공하였습니다. \")"
   ]
  },
  {
   "cell_type": "code",
   "execution_count": 44,
   "metadata": {},
   "outputs": [
    {
     "name": "stdout",
     "output_type": "stream",
     "text": [
      "올바른 삼각형\n"
     ]
    }
   ],
   "source": [
    "# p. 257\n",
    "s1 = int(input(\"삼각형의 한 변을 입력하시오: \"))\n",
    "s2 = int(input(\"삼각형의 한 변을 입력하시오: \"))\n",
    "s3 = int(input(\"삼각형의 한 변을 입력하시오: \"))\n",
    "if (s1 + s2) > c and (s2 + s3) > s1 and (s1 + s3) > s2 :\n",
    "    print(\"올바른 삼각형\")\n",
    "else : print(\"올바르지 않은 삼각형\")"
   ]
  },
  {
   "cell_type": "code",
   "execution_count": 45,
   "metadata": {},
   "outputs": [],
   "source": [
    "# p. 270 중간 점검\n",
    "# 1. 반복적인 작업을 효율적으로 수행하기 위해 프로그램의 반복 구조는 필요하다.\n",
    "# 2. 반복 구조에는 횟수 반복과 조건 반복이 있다.\n",
    "# 3. 횟수 반복은 반복을 시작하기 전에 횟수를 설정하는 방법이고, 조건 반복은 특정한 조건이 만족되는 동안 반복하는 방법이다."
   ]
  },
  {
   "cell_type": "code",
   "execution_count": 46,
   "metadata": {},
   "outputs": [
    {
     "name": "stdout",
     "output_type": "stream",
     "text": [
      "[0, 2, 3, 4, 9]\n"
     ]
    }
   ],
   "source": [
    "# p. 275 중간 점검\n",
    "mylist = [1, 2, 3, 4, 5]\n",
    "mylist[0] = 0\n",
    "mylist[-1] = 9\n",
    "print(mylist)"
   ]
  },
  {
   "cell_type": "code",
   "execution_count": 48,
   "metadata": {},
   "outputs": [
    {
     "name": "stdout",
     "output_type": "stream",
     "text": [
      "i = 9\n",
      "i = 8\n",
      "i = 7\n",
      "i = 6\n",
      "i = 5\n"
     ]
    }
   ],
   "source": [
    "# p. 278 중간 점검\n",
    "for i in [9, 8, 7, 6, 5]: print('i =', i)"
   ]
  },
  {
   "cell_type": "code",
   "execution_count": 49,
   "metadata": {},
   "outputs": [
    {
     "name": "stdout",
     "output_type": "stream",
     "text": [
      "2\n",
      "4\n",
      "6\n",
      "8\n",
      "Student10\n",
      "Student8\n",
      "Student6\n",
      "Student4\n",
      "Student2\n"
     ]
    }
   ],
   "source": [
    "# p. 283 중간 점검\n",
    "for i in range(1, 5, 1): print(2 * i)\n",
    "for i in range(10, 0, -2): print(\"Student\" + str(i))"
   ]
  },
  {
   "cell_type": "code",
   "execution_count": 54,
   "metadata": {},
   "outputs": [
    {
     "name": "stdout",
     "output_type": "stream",
     "text": [
      "10!은 3628800이다.\n"
     ]
    }
   ],
   "source": [
    "# p. 284\n",
    "n = int(input(\"정수를 입력하시오: \"))\n",
    "f = 1\n",
    "\n",
    "for i in range(1, n+1): \n",
    "    f = f * i\n",
    "print(str(n)+\"!은 \"+str(f)+\"이다.\")"
   ]
  },
  {
   "cell_type": "code",
   "execution_count": 58,
   "metadata": {},
   "outputs": [
    {
     "name": "stdout",
     "output_type": "stream",
     "text": [
      "방정식의 해는 1.62\n"
     ]
    }
   ],
   "source": [
    "# p. 287\n",
    "count = 100\n",
    "start = 1\n",
    "end = 2\n",
    "\n",
    "for i in range(count):\n",
    "    x = start + i * ((end-start)/count)\n",
    "    f = x**2 - x - 1\n",
    "    if abs(f-0.0) < 0.01: print(\"방정식의 해는\", x)"
   ]
  },
  {
   "cell_type": "code",
   "execution_count": 59,
   "metadata": {},
   "outputs": [],
   "source": [
    "# p. 296 중간 점검\n",
    "# 1. if문은 한 번 실행되는 반면, while문은 계속 실행될 수 있다.\n",
    "# 2. for문은 반복 횟수를 알고 있는 경우 사용하기에 좋고, while문은 무한 루프를 생성할 때 사용하면 좋다."
   ]
  },
  {
   "cell_type": "code",
   "execution_count": 65,
   "metadata": {},
   "outputs": [
    {
     "name": "stdout",
     "output_type": "stream",
     "text": [
      "9*1=9\n",
      "9*2=18\n",
      "9*3=27\n",
      "9*4=36\n",
      "9*5=45\n",
      "9*6=54\n",
      "9*7=63\n",
      "9*8=72\n",
      "9*9=81\n"
     ]
    }
   ],
   "source": [
    "# p. 297\n",
    "a = int(input(\"원하는 단은: \"))\n",
    "\n",
    "i=1\n",
    "\n",
    "while i < a+1:\n",
    "    print(\"%d*%d=%d\" % (a, i, a*i))\n",
    "    i += 1"
   ]
  },
  {
   "cell_type": "code",
   "execution_count": 66,
   "metadata": {},
   "outputs": [
    {
     "name": "stdout",
     "output_type": "stream",
     "text": [
      "1부터 100 사이의 숫자를 맟히시오.\n",
      "너무 높음!\n",
      "너무 높음!\n",
      "너무 높음!\n",
      "너무 낮음!\n",
      "너무 낮음!\n",
      "너무 낮음!\n",
      "너무 낮음!\n",
      "너무 낮음!\n",
      "너무 낮음!\n",
      "너무 낮음!\n",
      "너무 낮음!\n",
      "너무 낮음!\n",
      "너무 낮음!\n",
      "너무 낮음!\n",
      "너무 낮음!\n",
      "너무 낮음!\n",
      "너무 낮음!\n",
      "너무 낮음!\n",
      "너무 낮음!\n",
      "너무 높음!\n",
      "축하합니다. 시도 횟수 = 21\n"
     ]
    }
   ],
   "source": [
    "# p. 299\n",
    "t = 0\n",
    "g = 0\n",
    "a = random.randint(1, 100)\n",
    "\n",
    "print(\"1부터 100 사이의 숫자를 맟히시오.\")\n",
    "while g != a:\n",
    "    g = int(input(\"숫자를 입력하시오: \"))\n",
    "    t += 1\n",
    "    if g < a: print(\"너무 낮음!\")\n",
    "    elif g > a: print(\"너무 높음!\")\n",
    "    \n",
    "if g == a: print(\"축하합니다. 시도 횟수 =\", t)\n",
    "else: print(\"정답은\", a)"
   ]
  },
  {
   "cell_type": "code",
   "execution_count": 67,
   "metadata": {},
   "outputs": [
    {
     "name": "stdout",
     "output_type": "stream",
     "text": [
      "잘했어요!!\n",
      "틀렸어요. 하지만 다음 번에는 잘할 수 있죠?\n"
     ]
    }
   ],
   "source": [
    "# p. 301\n",
    "a = True\n",
    "while a:\n",
    "    x = random.randint(1, 100)\n",
    "    y = random.randint(1, 100)\n",
    "    answer = int(input(f\"{x} + {y} = \"))\n",
    "    if answer == x + y:\n",
    "        print(\"잘했어요!!\")\n",
    "    else:\n",
    "        print(\"틀렸어요. 하지만 다음 번에는 잘할 수 있죠?\")\n",
    "        a = False"
   ]
  },
  {
   "cell_type": "code",
   "execution_count": 1,
   "metadata": {},
   "outputs": [
    {
     "name": "stdout",
     "output_type": "stream",
     "text": [
      "로그인 성공\n"
     ]
    }
   ],
   "source": [
    "# p. 303\n",
    "p = ''\n",
    "while p != 'pythonisfun':\n",
    "    p = input(\"암호를 입력하시오: \")\n",
    "print(\"로그인 성공\")"
   ]
  },
  {
   "cell_type": "code",
   "execution_count": 2,
   "metadata": {},
   "outputs": [
    {
     "name": "stdout",
     "output_type": "stream",
     "text": [
      "0 곱하기 0 은 0\n",
      "0 곱하기 1 은 0\n",
      "0 곱하기 2 은 0\n",
      "1 곱하기 0 은 0\n",
      "1 곱하기 1 은 1\n",
      "1 곱하기 2 은 2\n",
      "2 곱하기 0 은 0\n",
      "2 곱하기 1 은 2\n",
      "2 곱하기 2 은 4\n"
     ]
    }
   ],
   "source": [
    "# p. 310 중간 점검\n",
    "for i in range(3):\n",
    "    for j in range(3):\n",
    "        print(i, '곱하기', j, '은', i*j)"
   ]
  },
  {
   "cell_type": "code",
   "execution_count": 3,
   "metadata": {},
   "outputs": [
    {
     "name": "stdout",
     "output_type": "stream",
     "text": [
      "첫 번째 주사위: 1, 두 번째 주사위: 5\n",
      "첫 번째 주사위: 2, 두 번째 주사위: 4\n",
      "첫 번째 주사위: 3, 두 번째 주사위: 3\n",
      "첫 번째 주사위: 4, 두 번째 주사위: 2\n",
      "첫 번째 주사위: 5, 두 번째 주사위: 1\n"
     ]
    }
   ],
   "source": [
    "# p. 311\n",
    "for f in range(1, 7):\n",
    "    for s in range(1, 7):\n",
    "        if f + s == 6:\n",
    "            print(f'첫 번째 주사위: {f}, 두 번째 주사위: {s}')"
   ]
  },
  {
   "cell_type": "code",
   "execution_count": 4,
   "metadata": {},
   "outputs": [
    {
     "name": "stdout",
     "output_type": "stream",
     "text": [
      "Kim이 Korean 식당을 방문\n",
      "Kim이 American 식당을 방문\n",
      "Kim이 French 식당을 방문\n",
      "Kim이 Chinese 식당을 방문\n",
      "Park이 Korean 식당을 방문\n",
      "Park이 American 식당을 방문\n",
      "Park이 French 식당을 방문\n",
      "Park이 Chinese 식당을 방문\n",
      "Lee이 Korean 식당을 방문\n",
      "Lee이 American 식당을 방문\n",
      "Lee이 French 식당을 방문\n",
      "Lee이 Chinese 식당을 방문\n",
      "Choi이 Korean 식당을 방문\n",
      "Choi이 American 식당을 방문\n",
      "Choi이 French 식당을 방문\n",
      "Choi이 Chinese 식당을 방문\n"
     ]
    }
   ],
   "source": [
    "# p. 313\n",
    "persons = [\"Kim\" , \"Park\" , \"Lee\" , \"Choi\"]\n",
    "restaurants = [\"Korean\" , \"American\" , \"French\", \"Chinese\"]\n",
    "\n",
    "for p in persons:\n",
    "    for r in restaurants:\n",
    "        print(f'{p}이 {r} 식당을 방문')"
   ]
  },
  {
   "cell_type": "code",
   "execution_count": 6,
   "metadata": {},
   "outputs": [
    {
     "name": "stdout",
     "output_type": "stream",
     "text": [
      "2 3 5 7 11 13 17 19 23 29 31 37 41 43 47 53 59 61 67 71 73 79 83 89 97 101 103 107 109 113 127 131 137 139 149 151 157 163 167 173 179 181 191 193 197 199 211 223 227 229 "
     ]
    }
   ],
   "source": [
    "# p. 318\n",
    "n_p = 50\n",
    "n = 2\n",
    "c = 0\n",
    "\n",
    "while c < n_p:\n",
    "    d = 2\n",
    "    p = True\n",
    "    while d < n:\n",
    "        if n % d == 0:\n",
    "            p = False\n",
    "            break\n",
    "        d += 1\n",
    "    if p:\n",
    "        c += 1\n",
    "        print(n, end = ' ')\n",
    "    n += 1"
   ]
  },
  {
   "cell_type": "code",
   "execution_count": null,
   "metadata": {},
   "outputs": [],
   "source": []
  }
 ],
 "metadata": {
  "kernelspec": {
   "display_name": "base",
   "language": "python",
   "name": "python3"
  },
  "language_info": {
   "codemirror_mode": {
    "name": "ipython",
    "version": 3
   },
   "file_extension": ".py",
   "mimetype": "text/x-python",
   "name": "python",
   "nbconvert_exporter": "python",
   "pygments_lexer": "ipython3",
   "version": "3.11.5"
  }
 },
 "nbformat": 4,
 "nbformat_minor": 2
}
