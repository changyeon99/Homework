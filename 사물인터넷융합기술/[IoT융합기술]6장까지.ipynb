{
 "cells": [
  {
   "cell_type": "code",
   "execution_count": 1,
   "metadata": {},
   "outputs": [],
   "source": [
    "# 중간점검, Lab 프로그램 실행 결과를 레포트에 작성하여 pdf 파일로 제출"
   ]
  },
  {
   "cell_type": "code",
   "execution_count": 11,
   "metadata": {},
   "outputs": [],
   "source": [
    "# p. 330 중간 점검\n",
    "# 1. 함수란 특정 작업을 수행하는 명령어들의 모음에 이름 붙인 것.\n",
    "# 2. 함수를 이용하면 반복이 필요한 코드를 재활용할 수 있다."
   ]
  },
  {
   "cell_type": "code",
   "execution_count": 5,
   "metadata": {},
   "outputs": [
    {
     "data": {
      "text/plain": [
       "(1, 2)"
      ]
     },
     "execution_count": 5,
     "metadata": {},
     "output_type": "execute_result"
    }
   ],
   "source": [
    "# p. 340 중간 점검\n",
    "# 1. 함수에 전달하는 값을 인수라고 한다.\n",
    "# 2. 함수 안에서 전달되는 값을 받는 변수를 매개변수라고 한다.\n",
    "def get_input():\n",
    "    x = int(input('첫 번째 정수'))\n",
    "    y = int(input('두 번째 정수'))\n",
    "    return x, y\n",
    "\n",
    "get_input()"
   ]
  },
  {
   "cell_type": "code",
   "execution_count": 8,
   "metadata": {},
   "outputs": [
    {
     "name": "stdout",
     "output_type": "stream",
     "text": [
      "너비가 2, 높이가 3인 사각형의 면적: 6\n"
     ]
    }
   ],
   "source": [
    "# p. 343 중간 점검\n",
    "def get_rect_area(w, h):\n",
    "    return w*h\n",
    "\n",
    "def main():\n",
    "    w = 2\n",
    "    h = 3\n",
    "    result = get_rect_area(w, h)\n",
    "    print(f\"너비가 {w}, 높이가 {h}인 사각형의 면적: {result}\")\n",
    "\n",
    "main()"
   ]
  },
  {
   "cell_type": "code",
   "execution_count": 9,
   "metadata": {},
   "outputs": [
    {
     "name": "stdout",
     "output_type": "stream",
     "text": [
      "20cm 피자 2개의 면적: 2512.0\n",
      "30cm 피자 1개의 면적: 2826.0\n"
     ]
    }
   ],
   "source": [
    "# p. 344\n",
    "def main() : \n",
    "    print(\"20cm 피자 2개의 면적:\", get_area(20)+get_area(20))\n",
    "    print(\"30cm 피자 1개의 면적:\", get_area(30))\n",
    "\n",
    "def get_area(radius):\n",
    "    if radius > 0:\n",
    "        area = 3.14*radius**2\n",
    "    else:\n",
    "        area = 0\n",
    "    return area\n",
    "\n",
    "main()"
   ]
  },
  {
   "cell_type": "code",
   "execution_count": 10,
   "metadata": {},
   "outputs": [],
   "source": [
    "# p. 358 중간 점검\n",
    "# 1. 인수는 호출 프로그램에 의하여 함수에 실제로 전달되는 값이다. 매개 변수는 이 값을 전달받은 변수이다.\n",
    "# 2. 디폴트 인수는 기본값을 넣어주는 메커니즘과 같다. axis = 1\n",
    "# 3. 키워드 인수는 인수의 이름을 명시적으로 지정해서 값을 매개변수로 전달하는 방법이다.\n",
    "# 4. 매개변수 앞의 *는 가변 길이 인수를 함수에 전달할 수 있다."
   ]
  },
  {
   "cell_type": "code",
   "execution_count": 12,
   "metadata": {},
   "outputs": [
    {
     "name": "stdout",
     "output_type": "stream",
     "text": [
      "환영합니다.\n",
      "환영합니다.\n",
      "환영합니다.\n",
      "환영합니다.\n",
      "환영합니다.\n"
     ]
    }
   ],
   "source": [
    "# p. 359\n",
    "def display(msg, count=1):\n",
    "    for k in range(count):\n",
    "        print(msg)\n",
    "    \n",
    "display(\"환영합니다.\", 5)"
   ]
  },
  {
   "cell_type": "code",
   "execution_count": 13,
   "metadata": {},
   "outputs": [
    {
     "name": "stdout",
     "output_type": "stream",
     "text": [
      "x**2-x-1의 근: 1.6180419921875\n"
     ]
    }
   ],
   "source": [
    "# p. 361\n",
    "def f(x):\n",
    "    return(x**2-x-1)\n",
    "\n",
    "def bisection_method(a, b, error):\n",
    "    if f(a)*f(b) > 0:\n",
    "        print(\"구간에서 근 찾을 수 없다.\")\n",
    "    else:\n",
    "        while (b-a)/2.0 > error:\n",
    "            midpoint = (a+b)/2\n",
    "            if f(midpoint) == 0:\n",
    "                return(midpoint)\n",
    "            elif f(a)*f(midpoint) < 0:\n",
    "                b = midpoint\n",
    "            else: a = midpoint\n",
    "            \n",
    "        return(midpoint)\n",
    "\n",
    "ans = bisection_method(1, 2, 0.0001)\n",
    "\n",
    "print(\"x**2-x-1의 근:\", ans)"
   ]
  },
  {
   "cell_type": "code",
   "execution_count": 14,
   "metadata": {},
   "outputs": [
    {
     "name": "stdout",
     "output_type": "stream",
     "text": [
      "주급: 420000.0\n"
     ]
    }
   ],
   "source": [
    "# p. 363\n",
    "def weeklyPay(rate, hour):\n",
    "    money = 0\n",
    "    if (hour > 30):\n",
    "        money = rate*30 + 1.5*rate*(hour-30)\n",
    "    else:\n",
    "        money = rate*hour\n",
    "    return money\n",
    "\n",
    "rate = int(input(\"시급 입력:\"))\n",
    "hour = int(input(\"근무 시간 입력:\"))\n",
    "print(\"주급:\", str(weeklyPay(rate, hour)))"
   ]
  },
  {
   "cell_type": "code",
   "execution_count": 20,
   "metadata": {},
   "outputs": [
    {
     "data": {
      "text/plain": [
       "(4, 2)"
      ]
     },
     "execution_count": 20,
     "metadata": {},
     "output_type": "execute_result"
    }
   ],
   "source": [
    "# p. 367 중간 점검\n",
    "# 1. 값을 반환하는  return\n",
    "def addsub(x, y):    \n",
    "    pl = x+y\n",
    "    mi = x-y\n",
    "    \n",
    "    return pl, mi\n",
    "\n",
    "addsub(3, 1)"
   ]
  },
  {
   "cell_type": "code",
   "execution_count": 22,
   "metadata": {},
   "outputs": [
    {
     "name": "stdout",
     "output_type": "stream",
     "text": [
      "이름: 유창연  나이: 23\n"
     ]
    }
   ],
   "source": [
    "# p. 368\n",
    "def get_info():\n",
    "    name = input(\"이름\")\n",
    "    age = int(input(\"나이:\"))\n",
    "    return name, age\n",
    "\n",
    "st_name, st_age = get_info()\n",
    "print(\"이름:\", st_name, \" 나이:\", st_age)"
   ]
  },
  {
   "cell_type": "code",
   "execution_count": 24,
   "metadata": {},
   "outputs": [
    {
     "name": "stdout",
     "output_type": "stream",
     "text": [
      "1. 섭씨온도를 화씨온도로\n",
      "2. 화씨온도를 섭씨온도로\n",
      "3. 종료\n",
      "화씨온도 = 98.6  \n",
      "1. 섭씨온도를 화씨온도로\n",
      "2. 화씨온도를 섭씨온도로\n",
      "3. 종료\n"
     ]
    }
   ],
   "source": [
    "# p. 371\n",
    "def menu():\n",
    "    print(\"1. 섭씨온도를 화씨온도로\")\n",
    "    print(\"2. 화씨온도를 섭씨온도로\")\n",
    "    print(\"3. 종료\")\n",
    "    selection = int(input(\"메뉴를 선택하세요: \"))\n",
    "    return selection\n",
    "\n",
    "def ctof(c):\n",
    "    temp = c*9/5+32\n",
    "    return temp\n",
    "\n",
    "def ftoc(f):\n",
    "    temp = (f-32)*5/9\n",
    "    return temp\n",
    "\n",
    "def input_f():\n",
    "    f = float(input(\"화씨온도 입력\"))\n",
    "    return f\n",
    "\n",
    "def input_c():\n",
    "    c = float(input(\"섭씨온도 입력\"))\n",
    "    return c\n",
    "\n",
    "def main():\n",
    "    while True:\n",
    "        index = menu()\n",
    "        if index == 1:\n",
    "            t = input_c()\n",
    "            t2 = ctof(t)\n",
    "            print(\"화씨온도 =\", t2, \" \")\n",
    "        elif index == 2:\n",
    "            t = input_f()\n",
    "            t2 = ftoc(t)\n",
    "            print(\"섭씨온도 =\", t2, \" \")\n",
    "        else:\n",
    "            break\n",
    "main()"
   ]
  },
  {
   "cell_type": "code",
   "execution_count": 24,
   "metadata": {},
   "outputs": [],
   "source": [
    "# p. 382 중간 점검\n",
    "# 1. 지역변수는 함수마다 동일한 이름을 사용할 수 있다. 전역변수는 함수 외부에서 생선된 변수이다.\n",
    "# 2. 읽을 수 있다.\n",
    "# 3. global을 사용하지 않는 이상 전역변수 값은 변하지 않는다."
   ]
  },
  {
   "cell_type": "code",
   "execution_count": 26,
   "metadata": {},
   "outputs": [
    {
     "name": "stdout",
     "output_type": "stream",
     "text": [
      "성정평균 = 48.0\n",
      "최대점수 = 80\n",
      "최소점수 = 10\n",
      "80점 이상: 1\n"
     ]
    }
   ],
   "source": [
    "# p. 410\n",
    "stdnts = 5\n",
    "list = []\n",
    "count = 0\n",
    "\n",
    "for i in range(stdnts):\n",
    "    value = int(input(\"성적 입력\"))\n",
    "    list.append(value)\n",
    "    \n",
    "print(\"성정평균 =\", sum(list)/len(list))\n",
    "print(\"최대점수 =\", max(list))\n",
    "print(\"최소점수 =\", min(list))\n",
    "\n",
    "for score in list:\n",
    "    if score >= 80:\n",
    "        count += 1\n",
    "print(\"80점 이상:\", count)"
   ]
  },
  {
   "cell_type": "code",
   "execution_count": 27,
   "metadata": {},
   "outputs": [
    {
     "name": "stdout",
     "output_type": "stream",
     "text": [
      "두 번째로 큰 수: 15\n"
     ]
    }
   ],
   "source": [
    "# p. 412\n",
    "list = [1, 2, 3, 4, 15, 99]\n",
    "\n",
    "list.sort()\n",
    "\n",
    "print(\"두 번째로 큰 수:\", list[-2])"
   ]
  },
  {
   "cell_type": "code",
   "execution_count": 28,
   "metadata": {},
   "outputs": [
    {
     "name": "stdout",
     "output_type": "stream",
     "text": [
      "제거전 [10, 9, 8.3, 7.1, 3, 9]\n",
      "제거후 [9, 8.3, 7.1, 9]\n"
     ]
    }
   ],
   "source": [
    "# p. 414\n",
    "point = [10, 9, 8.3, 7.1, 3, 9]\n",
    "print(\"제거전\", point)\n",
    "point.remove(max(point))\n",
    "point.remove(min(point))\n",
    "print(\"제거후\", point)"
   ]
  },
  {
   "cell_type": "code",
   "execution_count": 29,
   "metadata": {},
   "outputs": [
    {
     "name": "stdout",
     "output_type": "stream",
     "text": [
      "grape\n",
      "orange\n",
      "apple\n"
     ]
    }
   ],
   "source": [
    "# p. 416\n",
    "stack = []\n",
    "\n",
    "for i in range(3):\n",
    "    f = input(\"과일 입력\")\n",
    "    stack.append(f)\n",
    "    \n",
    "for i in range(3):\n",
    "    print(stack.pop())"
   ]
  },
  {
   "cell_type": "code",
   "execution_count": 32,
   "metadata": {},
   "outputs": [
    {
     "name": "stdout",
     "output_type": "stream",
     "text": [
      "-------------\n",
      "1. 친구 리스트 출력\n",
      "2. 친구추가\n",
      "3. 친구삭제\n",
      "4. 이름변경\n",
      "9. 종료\n",
      "-------------\n",
      "1. 친구 리스트 출력\n",
      "2. 친구추가\n",
      "3. 친구삭제\n",
      "4. 이름변경\n",
      "9. 종료\n",
      "이름이 발견되지 않음\n",
      "-------------\n",
      "1. 친구 리스트 출력\n",
      "2. 친구추가\n",
      "3. 친구삭제\n",
      "4. 이름변경\n",
      "9. 종료\n"
     ]
    }
   ],
   "source": [
    "# p. 418\n",
    "menu = 0\n",
    "friends = []\n",
    "while menu != 9:\n",
    "    print(\"-------------\")\n",
    "    print(\"1. 친구 리스트 출력\")\n",
    "    print(\"2. 친구추가\")\n",
    "    print(\"3. 친구삭제\")\n",
    "    print(\"4. 이름변경\")\n",
    "    print(\"9. 종료\")\n",
    "    menu = int(input(\"메뉴를 선택하시오: \"))\n",
    "    \n",
    "    if menu == 1:\n",
    "        print(friends)\n",
    "    elif menu == 2:\n",
    "        name = input(\"이름을 입력하시오: \")\n",
    "    elif menu == 3:\n",
    "        del_name = input(\"삭제할 이름을 입력하시오: \")\n",
    "        if del_name in friends:\n",
    "            friends.remove(del_name)\n",
    "        else:\n",
    "            print(\"이름이 발견되니 않음\")\n",
    "    elif menu == 4:\n",
    "        old_name = input(\"변경할 이름을 입력하시오\")\n",
    "        if old_name in friends:\n",
    "            index = friends.index(old_name)\n",
    "            new_name = input(\"새로운 이름 입력\")\n",
    "            friends[index] = new_name\n",
    "        else:\n",
    "            print(\"이름이 발견되지 않음\")"
   ]
  },
  {
   "cell_type": "code",
   "execution_count": 45,
   "metadata": {},
   "outputs": [],
   "source": [
    "# p. 434 중간 점검\n",
    "# 1. 함수란 특정 작업을 수행하는 명령어들의 모음에 이름 붙인 것.\n",
    "# 2. 함수를 이용하면 반복이 필요한 코드를 재활용할 수 있다."
   ]
  },
  {
   "cell_type": "code",
   "execution_count": 33,
   "metadata": {},
   "outputs": [
    {
     "name": "stdout",
     "output_type": "stream",
     "text": [
      "[10, 8, 6, 4, 2]\n",
      "[1]\n"
     ]
    }
   ],
   "source": [
    "# p. 436\n",
    "numbers = [1, 2, 3, 4, 5, 6, 7, 8, 9, 10]\n",
    "reversed = numbers[::-2]\n",
    "print(reversed)\n",
    "\n",
    "numbers = [1, 2, 3, 4, 5, 6, 7, 8, 9, 10]\n",
    "numbers[1:] = []\n",
    "print(numbers)"
   ]
  },
  {
   "cell_type": "code",
   "execution_count": 34,
   "metadata": {},
   "outputs": [
    {
     "name": "stdout",
     "output_type": "stream",
     "text": [
      "인상전 [200, 250, 300, 280, 500]\n",
      "인상후 [260.0, 325.0, 390.0, 364.0, 650.0]\n"
     ]
    }
   ],
   "source": [
    "# p. 442\n",
    "salaries = [200, 250, 300, 280, 500]\n",
    "\n",
    "def modify(values, factor):\n",
    "    for i in range(len(values)):\n",
    "        values[i] = values[i]*factor\n",
    "        \n",
    "print(\"인상전\", salaries)\n",
    "modify(salaries, 1.3)\n",
    "print(\"인상후\", salaries)"
   ]
  },
  {
   "cell_type": "code",
   "execution_count": 37,
   "metadata": {},
   "outputs": [
    {
     "name": "stdout",
     "output_type": "stream",
     "text": [
      "[0, 6, 12, 18, 24, 30, 36, 42, 48, 54, 60, 66, 72, 78, 84, 90, 96]\n"
     ]
    }
   ],
   "source": [
    "# p. 447\n",
    "nums = [x for x in range(100) if x % 2 == 0 and x % 3 == 0]\n",
    "print(nums)"
   ]
  },
  {
   "cell_type": "code",
   "execution_count": 41,
   "metadata": {},
   "outputs": [
    {
     "name": "stdout",
     "output_type": "stream",
     "text": [
      "원래 리스트 [10, 20, 30, 40, 50]\n",
      "새로운 리스트 [10, 30, 60, 100, 150]\n"
     ]
    }
   ],
   "source": [
    "# p. 449\n",
    "list1 = [10, 20, 30, 40, 50]\n",
    "list2 = [sum(list1[0:x+1]) for x in range(0, len(list1))]\n",
    "\n",
    "print(\"원래 리스트\", list1)\n",
    "print(\"새로운 리스트\", list2)"
   ]
  },
  {
   "cell_type": "code",
   "execution_count": 1,
   "metadata": {},
   "outputs": [
    {
     "data": {
      "text/plain": [
       "[(2, 6, 10), (3, 3, 6)]"
      ]
     },
     "execution_count": 1,
     "metadata": {},
     "output_type": "execute_result"
    }
   ],
   "source": [
    "# p. 451\n",
    "[(x, y, z) for x in range(1, 30) for y in range(x, 30) for z in range(y, 30) if x**y + y**2 == z**2]"
   ]
  }
 ],
 "metadata": {
  "kernelspec": {
   "display_name": "base",
   "language": "python",
   "name": "python3"
  },
  "language_info": {
   "codemirror_mode": {
    "name": "ipython",
    "version": 3
   },
   "file_extension": ".py",
   "mimetype": "text/x-python",
   "name": "python",
   "nbconvert_exporter": "python",
   "pygments_lexer": "ipython3",
   "version": "3.11.5"
  }
 },
 "nbformat": 4,
 "nbformat_minor": 2
}
